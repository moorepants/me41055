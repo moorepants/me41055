{
 "cells": [
  {
   "cell_type": "code",
   "execution_count": null,
   "id": "a20f0421",
   "metadata": {},
   "outputs": [],
   "source": [
    "from IPython.display import YouTubeVideo\n",
    "YouTubeVideo('3pJdkssUdfU', width=600, height=480)"
   ]
  },
  {
   "cell_type": "code",
   "execution_count": null,
   "id": "1bb8dccc",
   "metadata": {},
   "outputs": [],
   "source": [
    "import sympy as sm\n",
    "import sympy.physics.mechanics as me\n",
    "me.init_vprinting()"
   ]
  },
  {
   "cell_type": "code",
   "execution_count": null,
   "id": "18b19fbe",
   "metadata": {},
   "outputs": [],
   "source": [
    "q1, q2, q3 = me.dynamicsymbols('q1, q2, q3')\n",
    "q = sm.Matrix([q1, q2, q3])"
   ]
  },
  {
   "cell_type": "code",
   "execution_count": null,
   "id": "3b20343f",
   "metadata": {},
   "outputs": [],
   "source": [
    "mb, mp, l, rp, rb, g = sm.symbols('m_b, m_p, l, r_p, r_b, g')"
   ]
  },
  {
   "cell_type": "code",
   "execution_count": null,
   "id": "34b4b01b",
   "metadata": {},
   "outputs": [],
   "source": [
    "N, A, B, C = sm.symbols('N, A, B, C', cls=me.ReferenceFrame)\n",
    "O, P, Q, R, S = sm.symbols('O, P, Q, R, S', cls=me.Point)"
   ]
  },
  {
   "cell_type": "code",
   "execution_count": null,
   "id": "e79503d0",
   "metadata": {},
   "outputs": [],
   "source": [
    "A.orient_axis(N, q1, N.z)\n",
    "B.orient_axis(A, q2, A.z)\n",
    "C.orient_axis(B, q3, B.z)"
   ]
  },
  {
   "cell_type": "code",
   "execution_count": null,
   "id": "8e4a6004",
   "metadata": {},
   "outputs": [],
   "source": [
    "P.set_pos(O, -l*A.y)\n",
    "S.set_pos(O, rp*A.y)\n",
    "Q.set_pos(S, -(rp - rb)*B.y)\n",
    "R.set_pos(Q, -rb*B.y)"
   ]
  },
  {
   "cell_type": "code",
   "execution_count": null,
   "id": "2888e2ac",
   "metadata": {},
   "outputs": [],
   "source": [
    "C.ang_vel_in(N)"
   ]
  },
  {
   "cell_type": "code",
   "execution_count": null,
   "id": "77b43c20",
   "metadata": {},
   "outputs": [],
   "source": [
    "O.set_vel(N, 0)"
   ]
  },
  {
   "cell_type": "code",
   "execution_count": null,
   "id": "3a2b9e66",
   "metadata": {},
   "outputs": [],
   "source": [
    "P.v2pt_theory(O, N, A)"
   ]
  },
  {
   "cell_type": "code",
   "execution_count": null,
   "id": "4fe0c113",
   "metadata": {},
   "outputs": [],
   "source": [
    "S.v2pt_theory(O, N, A)"
   ]
  },
  {
   "cell_type": "code",
   "execution_count": null,
   "id": "e6954c60",
   "metadata": {},
   "outputs": [],
   "source": [
    "Q.v2pt_theory(Q, N, B)"
   ]
  },
  {
   "cell_type": "markdown",
   "id": "0eade0c8",
   "metadata": {},
   "source": [
    "# Kinetic Energy"
   ]
  },
  {
   "cell_type": "code",
   "execution_count": null,
   "id": "454484d1",
   "metadata": {},
   "outputs": [],
   "source": [
    "Ic = mb/2*rb**2\n",
    "K = (mp/2*me.dot(P.vel(N), P.vel(N)) +\n",
    "     mb/2*me.dot(Q.vel(N), Q.vel(N)) +\n",
    "     Ic/2*me.dot(C.ang_vel_in(N), C.ang_vel_in(N)))\n",
    "K"
   ]
  },
  {
   "cell_type": "markdown",
   "id": "57547b06",
   "metadata": {},
   "source": [
    "# Potential Energy"
   ]
  },
  {
   "cell_type": "code",
   "execution_count": null,
   "id": "051dd6b5",
   "metadata": {},
   "outputs": [],
   "source": [
    "hp = (l*N.y - l*A.y).dot(N.y)\n",
    "hp"
   ]
  },
  {
   "cell_type": "code",
   "execution_count": null,
   "id": "7ddfd88a",
   "metadata": {},
   "outputs": [],
   "source": [
    "hp.subs({q1: 0})"
   ]
  },
  {
   "cell_type": "code",
   "execution_count": null,
   "id": "a13dafe6",
   "metadata": {},
   "outputs": [],
   "source": [
    "hp.subs({q1: sm.pi/2})"
   ]
  },
  {
   "cell_type": "code",
   "execution_count": null,
   "id": "0a0ccbc1",
   "metadata": {},
   "outputs": [],
   "source": [
    "hb = (l*N.y + Q.pos_from(O)).dot(N.y)\n",
    "hb"
   ]
  },
  {
   "cell_type": "code",
   "execution_count": null,
   "id": "ccd113d4",
   "metadata": {},
   "outputs": [],
   "source": [
    "hb.subs({q1: 0, q2: 0})"
   ]
  },
  {
   "cell_type": "code",
   "execution_count": null,
   "id": "7fe080f3",
   "metadata": {},
   "outputs": [],
   "source": [
    "hb.subs({q1: 0, q2: sm.pi/2})"
   ]
  },
  {
   "cell_type": "code",
   "execution_count": null,
   "id": "1649524e",
   "metadata": {},
   "outputs": [],
   "source": [
    "V = mp*g*hp + mb*g*hb\n",
    "V"
   ]
  },
  {
   "cell_type": "markdown",
   "id": "242363d9",
   "metadata": {},
   "source": [
    "# Lagragian"
   ]
  },
  {
   "cell_type": "code",
   "execution_count": null,
   "id": "82f80209",
   "metadata": {},
   "outputs": [],
   "source": [
    "L = K - V\n",
    "L"
   ]
  },
  {
   "cell_type": "markdown",
   "id": "0bb582db",
   "metadata": {},
   "source": [
    "# Lagrange's Equations"
   ]
  },
  {
   "cell_type": "code",
   "execution_count": null,
   "id": "d3a69c2f",
   "metadata": {},
   "outputs": [],
   "source": [
    "t = me.dynamicsymbols._t\n",
    "\n",
    "f1 = L.diff(q1.diff(t)).diff(t) - L.diff(q1)\n",
    "f1"
   ]
  },
  {
   "cell_type": "code",
   "execution_count": null,
   "id": "89abcd3d",
   "metadata": {},
   "outputs": [],
   "source": [
    "f2 = L.diff(q2.diff(t)).diff(t) - L.diff(q2)\n",
    "f2"
   ]
  },
  {
   "cell_type": "code",
   "execution_count": null,
   "id": "aa6c0cd4",
   "metadata": {},
   "outputs": [],
   "source": [
    "f3 = L.diff(q3.diff(t)).diff(t) - L.diff(q3)\n",
    "f3"
   ]
  },
  {
   "cell_type": "code",
   "execution_count": null,
   "id": "e75fa02b",
   "metadata": {},
   "outputs": [],
   "source": [
    "F = sm.Matrix([f1, f2, f3])"
   ]
  },
  {
   "cell_type": "code",
   "execution_count": null,
   "id": "6e172996",
   "metadata": {},
   "outputs": [],
   "source": [
    "Md = F.jacobian(q.diff(t, 2))\n",
    "Md"
   ]
  },
  {
   "cell_type": "code",
   "execution_count": null,
   "id": "b4946504",
   "metadata": {},
   "outputs": [],
   "source": [
    "gd = F.xreplace({q1.diff(t, 2): 0, q2.diff(t, 2): 0, q3.diff(t, 2): 0})\n",
    "gd"
   ]
  },
  {
   "cell_type": "code",
   "execution_count": null,
   "id": "d8c220ea",
   "metadata": {},
   "outputs": [],
   "source": [
    "R.pos_from(O)"
   ]
  },
  {
   "cell_type": "code",
   "execution_count": null,
   "id": "a9a62c6f",
   "metadata": {},
   "outputs": [],
   "source": [
    "O.set_vel(A, 0)\n",
    "S.set_vel(A, 0)\n",
    "Q.v2pt_theory(S, A, B)\n",
    "slip_speed = R.v2pt_theory(Q, A, C).dot(B.x)\n",
    "slip_speed"
   ]
  },
  {
   "cell_type": "code",
   "execution_count": null,
   "id": "5598160a",
   "metadata": {},
   "outputs": [],
   "source": [
    "c = sm.Matrix([slip_speed.diff(t)])\n",
    "c"
   ]
  },
  {
   "cell_type": "code",
   "execution_count": null,
   "id": "bbe9ea6a",
   "metadata": {},
   "outputs": [],
   "source": [
    "Mhn = c.jacobian(q.diff(t, 2))\n",
    "Mhn"
   ]
  },
  {
   "cell_type": "code",
   "execution_count": null,
   "id": "402a9f9b",
   "metadata": {},
   "outputs": [],
   "source": [
    "Mhn.T"
   ]
  },
  {
   "cell_type": "code",
   "execution_count": null,
   "id": "75a07700",
   "metadata": {},
   "outputs": [],
   "source": [
    "glam = c.xreplace({q1.diff(t, 2): 0, q2.diff(t, 2): 0, q3.diff(t, 2): 0})\n",
    "glam"
   ]
  },
  {
   "cell_type": "code",
   "execution_count": null,
   "id": "c597edb8",
   "metadata": {},
   "outputs": [],
   "source": [
    "Ma = Md.row_join(Mhn.T).col_join(Mhn.row_join(sm.Matrix([0])))\n",
    "Ma"
   ]
  },
  {
   "cell_type": "code",
   "execution_count": null,
   "id": "299f72c6",
   "metadata": {},
   "outputs": [],
   "source": [
    "ga = gd.col_join(glam)\n",
    "ga"
   ]
  }
 ],
 "metadata": {
  "kernelspec": {
   "display_name": "Python 3 (ipykernel)",
   "language": "python",
   "name": "python3"
  },
  "language_info": {
   "codemirror_mode": {
    "name": "ipython",
    "version": 3
   },
   "file_extension": ".py",
   "mimetype": "text/x-python",
   "name": "python",
   "nbconvert_exporter": "python",
   "pygments_lexer": "ipython3",
   "version": "3.8.16"
  }
 },
 "nbformat": 4,
 "nbformat_minor": 5
}
